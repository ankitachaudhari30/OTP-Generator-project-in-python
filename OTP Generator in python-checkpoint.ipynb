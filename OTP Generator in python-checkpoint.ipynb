{
 "cells": [
  {
   "cell_type": "code",
   "execution_count": 19,
   "id": "8277640d",
   "metadata": {},
   "outputs": [
    {
     "name": "stdout",
     "output_type": "stream",
     "text": [
      "OTP of length 6: 9JwQ3#\n"
     ]
    }
   ],
   "source": [
    "\"\"\"\"Python program to generate new 6 character OTP for every 10 seconds.\n",
    "Otp should have lower , upper case , numbers, special symbols.\n",
    "import math, random\"\"\"\n",
    " # function to generate OTP\n",
    "def generateOTP() :\n",
    " \n",
    "    # Declare a string variable \n",
    "    # which stores all string\n",
    "    string = '@#$&0123456789abcdefghijklmnopqrstuvwxyzABCDEFGHIJKLMNOPQRSTUVWXYZ'\n",
    "    OTP = \"\"\n",
    "    length = len(string)\n",
    "    for i in range(6) :\n",
    "        OTP += string[math.floor(random.random() * length)]\n",
    " \n",
    "    return OTP\n",
    " \n",
    "# Driver code\n",
    "if __name__ == \"__main__\" :\n",
    "     \n",
    "    print(\"OTP of length 6:\", generateOTP())\n"
   ]
  },
  {
   "cell_type": "code",
   "execution_count": null,
   "id": "2cc22626",
   "metadata": {},
   "outputs": [],
   "source": []
  },
  {
   "cell_type": "code",
   "execution_count": null,
   "id": "cd198195",
   "metadata": {},
   "outputs": [],
   "source": []
  },
  {
   "cell_type": "code",
   "execution_count": null,
   "id": "370da699",
   "metadata": {},
   "outputs": [],
   "source": []
  }
 ],
 "metadata": {
  "kernelspec": {
   "display_name": "Python 3 (ipykernel)",
   "language": "python",
   "name": "python3"
  },
  "language_info": {
   "codemirror_mode": {
    "name": "ipython",
    "version": 3
   },
   "file_extension": ".py",
   "mimetype": "text/x-python",
   "name": "python",
   "nbconvert_exporter": "python",
   "pygments_lexer": "ipython3",
   "version": "3.9.7"
  }
 },
 "nbformat": 4,
 "nbformat_minor": 5
}
